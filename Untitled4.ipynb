{
 "cells": [
  {
   "cell_type": "code",
   "execution_count": null,
   "metadata": {},
   "outputs": [
    {
     "name": "stdout",
     "output_type": "stream",
     "text": [
      "Welcome to our Dice Rolling Simulator\n"
     ]
    }
   ],
   "source": [
    "#python dice roll\n",
    "\n",
    "import random\n",
    "print('Welcome to our Dice Rolling Simulator')\n",
    "\n",
    "play_game = input('Are you ready to roll the dice? Enter Yes or No.').lower()\n"
   ]
  },
  {
   "cell_type": "code",
   "execution_count": null,
   "metadata": {},
   "outputs": [],
   "source": [
    "import random \n",
    "\n",
    "number = int(input('Input dice number that you wanna roll: '))\n",
    "\n",
    "while True:\n",
    "    print('Dice rolled, Number is: %d' % random.randint(1,number))\n",
    "\n",
    "    state = input('Roll again? :').lower()\n",
    "    if state == 'n':\n",
    "        print('See you again!')\n",
    "        exit(0)\n",
    "    elif state == 'y':\n",
    "        continue\n",
    "        "
   ]
  }
 ],
 "metadata": {
  "kernelspec": {
   "display_name": "Python 3",
   "language": "python",
   "name": "python3"
  },
  "language_info": {
   "codemirror_mode": {
    "name": "ipython",
    "version": 3
   },
   "file_extension": ".py",
   "mimetype": "text/x-python",
   "name": "python",
   "nbconvert_exporter": "python",
   "pygments_lexer": "ipython3",
   "version": "3.7.6"
  }
 },
 "nbformat": 4,
 "nbformat_minor": 4
}
